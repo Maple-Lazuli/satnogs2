{
 "cells": [
  {
   "cell_type": "code",
   "execution_count": 20,
   "metadata": {},
   "outputs": [],
   "source": [
    "import pandas as pd\n",
    "import numpy as np"
   ]
  },
  {
   "cell_type": "code",
   "execution_count": 23,
   "metadata": {},
   "outputs": [],
   "source": [
    "satellites_csv = '../data/satellites_enriched.csv'\n",
    "observations_csv = '../data/observations.csv'\n",
    "events_csv = '../data/events.csv'"
   ]
  },
  {
   "cell_type": "code",
   "execution_count": 24,
   "metadata": {},
   "outputs": [
    {
     "name": "stdout",
     "output_type": "stream",
     "text": [
      "(721, 16)\n",
      "(7765, 11)\n",
      "(88345, 13)\n",
      "(88345, 28)\n",
      "(27164, 39)\n"
     ]
    }
   ],
   "source": [
    "satellites_df = pd.read_csv(satellites_csv)\n",
    "print(satellites_df.shape)\n",
    "observations_df = pd.read_csv(observations_csv)\n",
    "print(observations_df.shape)\n",
    "events_df = pd.read_csv(events_csv)\n",
    "print(events_df.shape)\n",
    "sat_events_df = pd.merge(events_df, satellites_df,\n",
    "                         left_on='sat_id',\n",
    "                         right_on='sat_id',\n",
    "                         how='left')\n",
    "print(sat_events_df.shape)\n",
    "complete_df = pd.merge(observations_df,\n",
    "                       sat_events_df,\n",
    "                       left_on='Observation_id',\n",
    "                       right_on='observation_id',\n",
    "                       how='left')\n",
    "print(complete_df.shape)"
   ]
  },
  {
   "cell_type": "code",
   "execution_count": 25,
   "metadata": {},
   "outputs": [
    {
     "data": {
      "text/plain": [
       "Index(['Observation_id', 'Satellite', 'Station', 'Status', 'Status_Message',\n",
       "       'Transmitter', 'Frequency', 'Mode', 'Metadata', 'Downloads',\n",
       "       'Waterfall_Status', 'sat_id', 'norad_cat_id_x', 'transmitter',\n",
       "       'app_source', 'schema', 'decoded', 'frame', 'observer', 'timestamp',\n",
       "       'version', 'observation_id', 'station_id', 'associated_satellites_x',\n",
       "       'norad_cat_id_y', 'name', 'names', 'image', 'status', 'decayed',\n",
       "       'launched', 'deployed', 'website', 'operator', 'countries',\n",
       "       'telemetries', 'updated', 'citation', 'associated_satellites_y'],\n",
       "      dtype='object')"
      ]
     },
     "execution_count": 25,
     "metadata": {},
     "output_type": "execute_result"
    }
   ],
   "source": [
    "complete_df.columns"
   ]
  },
  {
   "cell_type": "code",
   "execution_count": 26,
   "metadata": {},
   "outputs": [
    {
     "data": {
      "text/plain": [
       "7765"
      ]
     },
     "execution_count": 26,
     "metadata": {},
     "output_type": "execute_result"
    }
   ],
   "source": [
    "len(set(list(complete_df['observation_id'])))"
   ]
  },
  {
   "cell_type": "code",
   "execution_count": null,
   "metadata": {},
   "outputs": [],
   "source": []
  }
 ],
 "metadata": {
  "kernelspec": {
   "display_name": "Python 3",
   "language": "python",
   "name": "python3"
  },
  "language_info": {
   "codemirror_mode": {
    "name": "ipython",
    "version": 3
   },
   "file_extension": ".py",
   "mimetype": "text/x-python",
   "name": "python",
   "nbconvert_exporter": "python",
   "pygments_lexer": "ipython3",
   "version": "3.7.6"
  }
 },
 "nbformat": 4,
 "nbformat_minor": 5
}
