{
 "cells": [
  {
   "cell_type": "code",
   "execution_count": 1,
   "metadata": {},
   "outputs": [
    {
     "data": {
      "text/html": [
       "<style>.container { width:100% !important; }</style>"
      ],
      "text/plain": [
       "<IPython.core.display.HTML object>"
      ]
     },
     "metadata": {},
     "output_type": "display_data"
    }
   ],
   "source": [
    "from IPython.core.display import display, HTML\n",
    "display(HTML(\"<style>.container { width:100% !important; }</style>\"))"
   ]
  },
  {
   "cell_type": "code",
   "execution_count": 3,
   "metadata": {},
   "outputs": [],
   "source": [
    "import pandas as pd\n",
    "import numpy as np\n",
    "from scipy import stats\n",
    "from scripts import *"
   ]
  },
  {
   "cell_type": "markdown",
   "metadata": {},
   "source": [
    "# Overview\n",
    "\n",
    "The purpose of this examination is to determine if there is a difference in successful observation based on satellite ownership.\n",
    "\n",
    "\n",
    "$H_{0}$ = There is no difference in probability of successful observation.\n",
    "\n",
    "$H_{A}$ = There is a difference in the probability of successful observation."
   ]
  },
  {
   "cell_type": "markdown",
   "metadata": {},
   "source": [
    "# Data Preparation\n",
    "\n",
    "The data needs to be aggregated prior to processing. This will be achieved by:\n",
    "1. Left join Satellites.csv and events.csv on SatNOGS satellite ID\n",
    "2. Left join (joined satellites and events) and observations.csv on Observation ID"
   ]
  },
  {
   "cell_type": "code",
   "execution_count": 4,
   "metadata": {},
   "outputs": [
    {
     "data": {
      "text/html": [
       "<div>\n",
       "<style scoped>\n",
       "    .dataframe tbody tr th:only-of-type {\n",
       "        vertical-align: middle;\n",
       "    }\n",
       "\n",
       "    .dataframe tbody tr th {\n",
       "        vertical-align: top;\n",
       "    }\n",
       "\n",
       "    .dataframe thead th {\n",
       "        text-align: right;\n",
       "    }\n",
       "</style>\n",
       "<table border=\"1\" class=\"dataframe\">\n",
       "  <thead>\n",
       "    <tr style=\"text-align: right;\">\n",
       "      <th></th>\n",
       "      <th>Observation_id</th>\n",
       "      <th>Status_Message</th>\n",
       "      <th>norad_cat_id_x</th>\n",
       "      <th>transmitter</th>\n",
       "      <th>schema</th>\n",
       "      <th>observation_id</th>\n",
       "      <th>station_id</th>\n",
       "      <th>norad_cat_id_y</th>\n",
       "      <th>Ones</th>\n",
       "      <th>Status_numeric</th>\n",
       "      <th>success_rate</th>\n",
       "    </tr>\n",
       "    <tr>\n",
       "      <th>countries</th>\n",
       "      <th></th>\n",
       "      <th></th>\n",
       "      <th></th>\n",
       "      <th></th>\n",
       "      <th></th>\n",
       "      <th></th>\n",
       "      <th></th>\n",
       "      <th></th>\n",
       "      <th></th>\n",
       "      <th></th>\n",
       "      <th></th>\n",
       "    </tr>\n",
       "  </thead>\n",
       "  <tbody>\n",
       "    <tr>\n",
       "      <th>ALG</th>\n",
       "      <td>496324406</td>\n",
       "      <td>9700</td>\n",
       "      <td>4053533</td>\n",
       "      <td>0.0</td>\n",
       "      <td>0.0</td>\n",
       "      <td>4.963244e+08</td>\n",
       "      <td>175084.0</td>\n",
       "      <td>4053533.0</td>\n",
       "      <td>97</td>\n",
       "      <td>97</td>\n",
       "      <td>1.000000</td>\n",
       "    </tr>\n",
       "    <tr>\n",
       "      <th>ARGN</th>\n",
       "      <td>2079633192</td>\n",
       "      <td>42300</td>\n",
       "      <td>16489204</td>\n",
       "      <td>0.0</td>\n",
       "      <td>0.0</td>\n",
       "      <td>2.079633e+09</td>\n",
       "      <td>620965.0</td>\n",
       "      <td>16489204.0</td>\n",
       "      <td>423</td>\n",
       "      <td>423</td>\n",
       "      <td>1.000000</td>\n",
       "    </tr>\n",
       "    <tr>\n",
       "      <th>ASRA</th>\n",
       "      <td>1366257111</td>\n",
       "      <td>27300</td>\n",
       "      <td>11680032</td>\n",
       "      <td>0.0</td>\n",
       "      <td>0.0</td>\n",
       "      <td>1.366257e+09</td>\n",
       "      <td>541535.0</td>\n",
       "      <td>11680032.0</td>\n",
       "      <td>273</td>\n",
       "      <td>273</td>\n",
       "      <td>1.000000</td>\n",
       "    </tr>\n",
       "    <tr>\n",
       "      <th>AU</th>\n",
       "      <td>12585564</td>\n",
       "      <td>100</td>\n",
       "      <td>299851</td>\n",
       "      <td>0.0</td>\n",
       "      <td>0.0</td>\n",
       "      <td>1.258556e+07</td>\n",
       "      <td>1913.0</td>\n",
       "      <td>299851.0</td>\n",
       "      <td>3</td>\n",
       "      <td>2</td>\n",
       "      <td>0.666667</td>\n",
       "    </tr>\n",
       "    <tr>\n",
       "      <th>AUS</th>\n",
       "      <td>1221712233</td>\n",
       "      <td>12500</td>\n",
       "      <td>12384542</td>\n",
       "      <td>0.0</td>\n",
       "      <td>0.0</td>\n",
       "      <td>1.221712e+09</td>\n",
       "      <td>346571.0</td>\n",
       "      <td>12384542.0</td>\n",
       "      <td>273</td>\n",
       "      <td>199</td>\n",
       "      <td>0.728938</td>\n",
       "    </tr>\n",
       "  </tbody>\n",
       "</table>\n",
       "</div>"
      ],
      "text/plain": [
       "           Observation_id  Status_Message  norad_cat_id_x  transmitter  \\\n",
       "countries                                                                \n",
       "ALG             496324406            9700         4053533          0.0   \n",
       "ARGN           2079633192           42300        16489204          0.0   \n",
       "ASRA           1366257111           27300        11680032          0.0   \n",
       "AU               12585564             100          299851          0.0   \n",
       "AUS            1221712233           12500        12384542          0.0   \n",
       "\n",
       "           schema  observation_id  station_id  norad_cat_id_y  Ones  \\\n",
       "countries                                                             \n",
       "ALG           0.0    4.963244e+08    175084.0       4053533.0    97   \n",
       "ARGN          0.0    2.079633e+09    620965.0      16489204.0   423   \n",
       "ASRA          0.0    1.366257e+09    541535.0      11680032.0   273   \n",
       "AU            0.0    1.258556e+07      1913.0        299851.0     3   \n",
       "AUS           0.0    1.221712e+09    346571.0      12384542.0   273   \n",
       "\n",
       "           Status_numeric  success_rate  \n",
       "countries                                \n",
       "ALG                    97      1.000000  \n",
       "ARGN                  423      1.000000  \n",
       "ASRA                  273      1.000000  \n",
       "AU                      2      0.666667  \n",
       "AUS                   199      0.728938  "
      ]
     },
     "execution_count": 4,
     "metadata": {},
     "output_type": "execute_result"
    }
   ],
   "source": [
    "data = aggregate_data()\n",
    "data['Ones'] = 1\n",
    "data['Status_numeric'] = data['Status'].apply(lambda x: eval_obs_status(x))\n",
    "data_groupby = data.groupby(\"countries\").sum()\n",
    "data_groupby['success_rate'] = data_groupby['Status_numeric'] / data_groupby['Ones']\n",
    "data_groupby.head()"
   ]
  },
  {
   "cell_type": "markdown",
   "metadata": {},
   "source": [
    "Next, drop the countries that have less than 30 observations"
   ]
  },
  {
   "cell_type": "code",
   "execution_count": 5,
   "metadata": {},
   "outputs": [
    {
     "name": "stdout",
     "output_type": "stream",
     "text": [
      "Only 55 countries remain for hypothesis testing\n"
     ]
    }
   ],
   "source": [
    "data_groupby_30plus = data_groupby[data_groupby['Ones'] >= 30]\n",
    "print(f'Only {data_groupby_30plus.shape[0]} countries remain for hypothesis testing')"
   ]
  },
  {
   "cell_type": "markdown",
   "metadata": {},
   "source": [
    "Next, define functions to save the hypothesis testing results and start testing"
   ]
  },
  {
   "cell_type": "markdown",
   "metadata": {},
   "source": [
    "# Hypothesis Testing"
   ]
  },
  {
   "cell_type": "code",
   "execution_count": 6,
   "metadata": {},
   "outputs": [],
   "source": [
    "testing_dir = \"../hypothesis_tests/countries/\""
   ]
  },
  {
   "cell_type": "code",
   "execution_count": 7,
   "metadata": {
    "scrolled": true
   },
   "outputs": [
    {
     "name": "stderr",
     "output_type": "stream",
     "text": [
      "/home/ada/CodeProjects/SatNOGS2/Notebooks/scripts.py:48: RuntimeWarning: invalid value encountered in double_scalars\n",
      "  equal_var = True if (((var1 / var2) <= 4) & ((var2 / var2) <=4) ) else False\n",
      "/home/ada/CodeProjects/SatNOGS2/Notebooks/scripts.py:48: RuntimeWarning: divide by zero encountered in double_scalars\n",
      "  equal_var = True if (((var1 / var2) <= 4) & ((var2 / var2) <=4) ) else False\n"
     ]
    }
   ],
   "source": [
    "indexes = data_groupby_30plus.index\n",
    "hypothesis_test_countries(data, indexes, alpha = 0.05)"
   ]
  },
  {
   "cell_type": "code",
   "execution_count": 8,
   "metadata": {},
   "outputs": [],
   "source": [
    "hypothesis_test_greater_counts(data, indexes, alpha = 0.05)"
   ]
  },
  {
   "cell_type": "code",
   "execution_count": null,
   "metadata": {},
   "outputs": [],
   "source": []
  },
  {
   "cell_type": "code",
   "execution_count": null,
   "metadata": {},
   "outputs": [],
   "source": []
  }
 ],
 "metadata": {
  "kernelspec": {
   "display_name": "Python 3",
   "language": "python",
   "name": "python3"
  },
  "language_info": {
   "codemirror_mode": {
    "name": "ipython",
    "version": 3
   },
   "file_extension": ".py",
   "mimetype": "text/x-python",
   "name": "python",
   "nbconvert_exporter": "python",
   "pygments_lexer": "ipython3",
   "version": "3.7.6"
  }
 },
 "nbformat": 4,
 "nbformat_minor": 5
}
